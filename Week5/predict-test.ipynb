{
 "cells": [
  {
   "cell_type": "code",
   "execution_count": 1,
   "metadata": {},
   "outputs": [
    {
     "data": {
      "application/javascript": "IPython.notebook.set_autosave_interval(0)"
     },
     "metadata": {},
     "output_type": "display_data"
    },
    {
     "name": "stdout",
     "output_type": "stream",
     "text": [
      "Autosave disabled\n"
     ]
    }
   ],
   "source": [
    "%autosave 0"
   ]
  },
  {
   "cell_type": "code",
   "execution_count": 28,
   "metadata": {},
   "outputs": [],
   "source": [
    "import requests\n",
    "import json"
   ]
  },
  {
   "cell_type": "code",
   "execution_count": 29,
   "metadata": {},
   "outputs": [],
   "source": [
    "url = 'http://localhost:9696/predict'"
   ]
  },
  {
   "cell_type": "code",
   "execution_count": 30,
   "metadata": {},
   "outputs": [],
   "source": [
    "customer = {\n",
    "        \"gender\": \"female\",\n",
    "        \"seniorcitizen\": 0,\n",
    "        \"partner\": \"yes\",\n",
    "        \"dependents\": \"no\",\n",
    "        \"phoneservice\": \"no\",\n",
    "        \"multiplelines\": \"no_phone_service\",\n",
    "        \"internetservice\": \"dsl\",\n",
    "        \"onlinesecurity\": \"no\",\n",
    "        \"onlinebackup\": \"yes\",\n",
    "        \"deviceprotection\": \"no\",\n",
    "        \"techsupport\": \"no\",\n",
    "        \"streamingtv\": \"no\",\n",
    "        \"streamingmovies\": \"no\",\n",
    "        \"contract\": \"month-to-month\",\n",
    "        \"paperlessbilling\": \"yes\",\n",
    "        \"paymentmethod\": \"electronic_check\",\n",
    "        \"tenure\": 1,\n",
    "        \"monthlycharges\": 29.85,\n",
    "        \"totalcharges\": 29.85\n",
    "}"
   ]
  },
  {
   "cell_type": "code",
   "execution_count": 32,
   "metadata": {},
   "outputs": [],
   "source": [
    "response = requests.post(url, json=customer).json()"
   ]
  },
  {
   "cell_type": "code",
   "execution_count": 33,
   "metadata": {},
   "outputs": [
    {
     "name": "stdout",
     "output_type": "stream",
     "text": [
      "sending promo email to xyz-123\n"
     ]
    }
   ],
   "source": [
    "if response['churn'] == True:\n",
    "    print('sending promo email to %s' %('xyz-123'))"
   ]
  },
  {
   "cell_type": "code",
   "execution_count": null,
   "metadata": {},
   "outputs": [],
   "source": []
  }
 ],
 "metadata": {
  "interpreter": {
   "hash": "581a96f1241247075035c7284e07ff5fdabc917a9bcd7283db28347f6c3ec56c"
  },
  "kernelspec": {
   "display_name": "Python 3.7.4 64-bit ('base': conda)",
   "name": "python3"
  },
  "language_info": {
   "codemirror_mode": {
    "name": "ipython",
    "version": 3
   },
   "file_extension": ".py",
   "mimetype": "text/x-python",
   "name": "python",
   "nbconvert_exporter": "python",
   "pygments_lexer": "ipython3",
   "version": "3.7.4"
  },
  "orig_nbformat": 4
 },
 "nbformat": 4,
 "nbformat_minor": 2
}
