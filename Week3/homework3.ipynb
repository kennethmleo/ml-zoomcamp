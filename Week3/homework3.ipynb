{
 "cells": [
  {
   "cell_type": "code",
   "execution_count": 1,
   "metadata": {},
   "outputs": [],
   "source": [
    "import numpy as np\n",
    "import matplotlib.pyplot as plt\n",
    "import seaborn as sns\n",
    "import pandas as pd"
   ]
  },
  {
   "cell_type": "code",
   "execution_count": 2,
   "metadata": {},
   "outputs": [
    {
     "data": {
      "text/html": [
       "<div>\n",
       "<style scoped>\n",
       "    .dataframe tbody tr th:only-of-type {\n",
       "        vertical-align: middle;\n",
       "    }\n",
       "\n",
       "    .dataframe tbody tr th {\n",
       "        vertical-align: top;\n",
       "    }\n",
       "\n",
       "    .dataframe thead th {\n",
       "        text-align: right;\n",
       "    }\n",
       "</style>\n",
       "<table border=\"1\" class=\"dataframe\">\n",
       "  <thead>\n",
       "    <tr style=\"text-align: right;\">\n",
       "      <th></th>\n",
       "      <th>id</th>\n",
       "      <th>name</th>\n",
       "      <th>host_id</th>\n",
       "      <th>host_name</th>\n",
       "      <th>neighbourhood_group</th>\n",
       "      <th>neighbourhood</th>\n",
       "      <th>latitude</th>\n",
       "      <th>longitude</th>\n",
       "      <th>room_type</th>\n",
       "      <th>price</th>\n",
       "      <th>minimum_nights</th>\n",
       "      <th>number_of_reviews</th>\n",
       "      <th>last_review</th>\n",
       "      <th>reviews_per_month</th>\n",
       "      <th>calculated_host_listings_count</th>\n",
       "      <th>availability_365</th>\n",
       "    </tr>\n",
       "  </thead>\n",
       "  <tbody>\n",
       "    <tr>\n",
       "      <td>0</td>\n",
       "      <td>2539</td>\n",
       "      <td>Clean &amp; quiet apt home by the park</td>\n",
       "      <td>2787</td>\n",
       "      <td>John</td>\n",
       "      <td>Brooklyn</td>\n",
       "      <td>Kensington</td>\n",
       "      <td>40.64749</td>\n",
       "      <td>-73.97237</td>\n",
       "      <td>Private room</td>\n",
       "      <td>149</td>\n",
       "      <td>1</td>\n",
       "      <td>9</td>\n",
       "      <td>2018-10-19</td>\n",
       "      <td>0.21</td>\n",
       "      <td>6</td>\n",
       "      <td>365</td>\n",
       "    </tr>\n",
       "    <tr>\n",
       "      <td>1</td>\n",
       "      <td>2595</td>\n",
       "      <td>Skylit Midtown Castle</td>\n",
       "      <td>2845</td>\n",
       "      <td>Jennifer</td>\n",
       "      <td>Manhattan</td>\n",
       "      <td>Midtown</td>\n",
       "      <td>40.75362</td>\n",
       "      <td>-73.98377</td>\n",
       "      <td>Entire home/apt</td>\n",
       "      <td>225</td>\n",
       "      <td>1</td>\n",
       "      <td>45</td>\n",
       "      <td>2019-05-21</td>\n",
       "      <td>0.38</td>\n",
       "      <td>2</td>\n",
       "      <td>355</td>\n",
       "    </tr>\n",
       "    <tr>\n",
       "      <td>2</td>\n",
       "      <td>3647</td>\n",
       "      <td>THE VILLAGE OF HARLEM....NEW YORK !</td>\n",
       "      <td>4632</td>\n",
       "      <td>Elisabeth</td>\n",
       "      <td>Manhattan</td>\n",
       "      <td>Harlem</td>\n",
       "      <td>40.80902</td>\n",
       "      <td>-73.94190</td>\n",
       "      <td>Private room</td>\n",
       "      <td>150</td>\n",
       "      <td>3</td>\n",
       "      <td>0</td>\n",
       "      <td>NaN</td>\n",
       "      <td>NaN</td>\n",
       "      <td>1</td>\n",
       "      <td>365</td>\n",
       "    </tr>\n",
       "    <tr>\n",
       "      <td>3</td>\n",
       "      <td>3831</td>\n",
       "      <td>Cozy Entire Floor of Brownstone</td>\n",
       "      <td>4869</td>\n",
       "      <td>LisaRoxanne</td>\n",
       "      <td>Brooklyn</td>\n",
       "      <td>Clinton Hill</td>\n",
       "      <td>40.68514</td>\n",
       "      <td>-73.95976</td>\n",
       "      <td>Entire home/apt</td>\n",
       "      <td>89</td>\n",
       "      <td>1</td>\n",
       "      <td>270</td>\n",
       "      <td>2019-07-05</td>\n",
       "      <td>4.64</td>\n",
       "      <td>1</td>\n",
       "      <td>194</td>\n",
       "    </tr>\n",
       "    <tr>\n",
       "      <td>4</td>\n",
       "      <td>5022</td>\n",
       "      <td>Entire Apt: Spacious Studio/Loft by central park</td>\n",
       "      <td>7192</td>\n",
       "      <td>Laura</td>\n",
       "      <td>Manhattan</td>\n",
       "      <td>East Harlem</td>\n",
       "      <td>40.79851</td>\n",
       "      <td>-73.94399</td>\n",
       "      <td>Entire home/apt</td>\n",
       "      <td>80</td>\n",
       "      <td>10</td>\n",
       "      <td>9</td>\n",
       "      <td>2018-11-19</td>\n",
       "      <td>0.10</td>\n",
       "      <td>1</td>\n",
       "      <td>0</td>\n",
       "    </tr>\n",
       "  </tbody>\n",
       "</table>\n",
       "</div>"
      ],
      "text/plain": [
       "     id                                              name  host_id  \\\n",
       "0  2539                Clean & quiet apt home by the park     2787   \n",
       "1  2595                             Skylit Midtown Castle     2845   \n",
       "2  3647               THE VILLAGE OF HARLEM....NEW YORK !     4632   \n",
       "3  3831                   Cozy Entire Floor of Brownstone     4869   \n",
       "4  5022  Entire Apt: Spacious Studio/Loft by central park     7192   \n",
       "\n",
       "     host_name neighbourhood_group neighbourhood  latitude  longitude  \\\n",
       "0         John            Brooklyn    Kensington  40.64749  -73.97237   \n",
       "1     Jennifer           Manhattan       Midtown  40.75362  -73.98377   \n",
       "2    Elisabeth           Manhattan        Harlem  40.80902  -73.94190   \n",
       "3  LisaRoxanne            Brooklyn  Clinton Hill  40.68514  -73.95976   \n",
       "4        Laura           Manhattan   East Harlem  40.79851  -73.94399   \n",
       "\n",
       "         room_type  price  minimum_nights  number_of_reviews last_review  \\\n",
       "0     Private room    149               1                  9  2018-10-19   \n",
       "1  Entire home/apt    225               1                 45  2019-05-21   \n",
       "2     Private room    150               3                  0         NaN   \n",
       "3  Entire home/apt     89               1                270  2019-07-05   \n",
       "4  Entire home/apt     80              10                  9  2018-11-19   \n",
       "\n",
       "   reviews_per_month  calculated_host_listings_count  availability_365  \n",
       "0               0.21                               6               365  \n",
       "1               0.38                               2               355  \n",
       "2                NaN                               1               365  \n",
       "3               4.64                               1               194  \n",
       "4               0.10                               1                 0  "
      ]
     },
     "execution_count": 2,
     "metadata": {},
     "output_type": "execute_result"
    }
   ],
   "source": [
    "df = pd.read_csv('AB_NYC_2019.csv')\n",
    "df.head()"
   ]
  },
  {
   "cell_type": "markdown",
   "metadata": {},
   "source": [
    "### Exploratory Data Analysis"
   ]
  },
  {
   "cell_type": "code",
   "execution_count": 3,
   "metadata": {},
   "outputs": [
    {
     "data": {
      "text/plain": [
       "Index(['id', 'name', 'host_id', 'host_name', 'neighbourhood_group',\n",
       "       'neighbourhood', 'latitude', 'longitude', 'room_type', 'price',\n",
       "       'minimum_nights', 'number_of_reviews', 'last_review',\n",
       "       'reviews_per_month', 'calculated_host_listings_count',\n",
       "       'availability_365'],\n",
       "      dtype='object')"
      ]
     },
     "execution_count": 3,
     "metadata": {},
     "output_type": "execute_result"
    }
   ],
   "source": [
    "df.columns"
   ]
  },
  {
   "cell_type": "code",
   "execution_count": 4,
   "metadata": {},
   "outputs": [],
   "source": [
    "features = ['neighbourhood_group', 'room_type','latitude', 'longitude', 'price', 'minimum_nights', 'number_of_reviews', 'reviews_per_month', \n",
    "            'calculated_host_listings_count', 'availability_365']"
   ]
  },
  {
   "cell_type": "code",
   "execution_count": 5,
   "metadata": {},
   "outputs": [
    {
     "data": {
      "text/html": [
       "<div>\n",
       "<style scoped>\n",
       "    .dataframe tbody tr th:only-of-type {\n",
       "        vertical-align: middle;\n",
       "    }\n",
       "\n",
       "    .dataframe tbody tr th {\n",
       "        vertical-align: top;\n",
       "    }\n",
       "\n",
       "    .dataframe thead th {\n",
       "        text-align: right;\n",
       "    }\n",
       "</style>\n",
       "<table border=\"1\" class=\"dataframe\">\n",
       "  <thead>\n",
       "    <tr style=\"text-align: right;\">\n",
       "      <th></th>\n",
       "      <th>neighbourhood_group</th>\n",
       "      <th>room_type</th>\n",
       "      <th>latitude</th>\n",
       "      <th>longitude</th>\n",
       "      <th>price</th>\n",
       "      <th>minimum_nights</th>\n",
       "      <th>number_of_reviews</th>\n",
       "      <th>reviews_per_month</th>\n",
       "      <th>calculated_host_listings_count</th>\n",
       "      <th>availability_365</th>\n",
       "      <th>above_average</th>\n",
       "    </tr>\n",
       "  </thead>\n",
       "  <tbody>\n",
       "    <tr>\n",
       "      <td>0</td>\n",
       "      <td>Brooklyn</td>\n",
       "      <td>Private room</td>\n",
       "      <td>40.64749</td>\n",
       "      <td>-73.97237</td>\n",
       "      <td>149</td>\n",
       "      <td>1</td>\n",
       "      <td>9</td>\n",
       "      <td>0.21</td>\n",
       "      <td>6</td>\n",
       "      <td>365</td>\n",
       "      <td>0</td>\n",
       "    </tr>\n",
       "    <tr>\n",
       "      <td>1</td>\n",
       "      <td>Manhattan</td>\n",
       "      <td>Entire home/apt</td>\n",
       "      <td>40.75362</td>\n",
       "      <td>-73.98377</td>\n",
       "      <td>225</td>\n",
       "      <td>1</td>\n",
       "      <td>45</td>\n",
       "      <td>0.38</td>\n",
       "      <td>2</td>\n",
       "      <td>355</td>\n",
       "      <td>1</td>\n",
       "    </tr>\n",
       "    <tr>\n",
       "      <td>2</td>\n",
       "      <td>Manhattan</td>\n",
       "      <td>Private room</td>\n",
       "      <td>40.80902</td>\n",
       "      <td>-73.94190</td>\n",
       "      <td>150</td>\n",
       "      <td>3</td>\n",
       "      <td>0</td>\n",
       "      <td>0.00</td>\n",
       "      <td>1</td>\n",
       "      <td>365</td>\n",
       "      <td>0</td>\n",
       "    </tr>\n",
       "    <tr>\n",
       "      <td>3</td>\n",
       "      <td>Brooklyn</td>\n",
       "      <td>Entire home/apt</td>\n",
       "      <td>40.68514</td>\n",
       "      <td>-73.95976</td>\n",
       "      <td>89</td>\n",
       "      <td>1</td>\n",
       "      <td>270</td>\n",
       "      <td>4.64</td>\n",
       "      <td>1</td>\n",
       "      <td>194</td>\n",
       "      <td>0</td>\n",
       "    </tr>\n",
       "    <tr>\n",
       "      <td>4</td>\n",
       "      <td>Manhattan</td>\n",
       "      <td>Entire home/apt</td>\n",
       "      <td>40.79851</td>\n",
       "      <td>-73.94399</td>\n",
       "      <td>80</td>\n",
       "      <td>10</td>\n",
       "      <td>9</td>\n",
       "      <td>0.10</td>\n",
       "      <td>1</td>\n",
       "      <td>0</td>\n",
       "      <td>0</td>\n",
       "    </tr>\n",
       "  </tbody>\n",
       "</table>\n",
       "</div>"
      ],
      "text/plain": [
       "  neighbourhood_group        room_type  latitude  longitude  price  \\\n",
       "0            Brooklyn     Private room  40.64749  -73.97237    149   \n",
       "1           Manhattan  Entire home/apt  40.75362  -73.98377    225   \n",
       "2           Manhattan     Private room  40.80902  -73.94190    150   \n",
       "3            Brooklyn  Entire home/apt  40.68514  -73.95976     89   \n",
       "4           Manhattan  Entire home/apt  40.79851  -73.94399     80   \n",
       "\n",
       "   minimum_nights  number_of_reviews  reviews_per_month  \\\n",
       "0               1                  9               0.21   \n",
       "1               1                 45               0.38   \n",
       "2               3                  0               0.00   \n",
       "3               1                270               4.64   \n",
       "4              10                  9               0.10   \n",
       "\n",
       "   calculated_host_listings_count  availability_365  above_average  \n",
       "0                               6               365              0  \n",
       "1                               2               355              1  \n",
       "2                               1               365              0  \n",
       "3                               1               194              0  \n",
       "4                               1                 0              0  "
      ]
     },
     "execution_count": 5,
     "metadata": {},
     "output_type": "execute_result"
    }
   ],
   "source": [
    "df = df[features]\n",
    "df['above_average'] = np.where(df.price >= 152, 1,0)\n",
    "df = df.fillna(0)\n",
    "df.head()"
   ]
  },
  {
   "cell_type": "markdown",
   "metadata": {},
   "source": [
    "### Question 1\n",
    "\n",
    "What is the most frequent observation (mode) for the column ```neighbourhood_group```?"
   ]
  },
  {
   "cell_type": "code",
   "execution_count": 6,
   "metadata": {},
   "outputs": [
    {
     "data": {
      "text/plain": [
       "0    Manhattan\n",
       "dtype: object"
      ]
     },
     "execution_count": 6,
     "metadata": {},
     "output_type": "execute_result"
    }
   ],
   "source": [
    "df.neighbourhood_group.mode()"
   ]
  },
  {
   "cell_type": "markdown",
   "metadata": {},
   "source": [
    "### Split the data\n",
    "\n",
    "- Split your data in train/val/test sets, with 60%/20%/20% distribution.\n",
    "- Use Scikit-Learn for that (the ```train_test_split``` function) and set the seed to 42.\n",
    "- Make sure that the target value ('price') is not in your dataframe."
   ]
  },
  {
   "cell_type": "code",
   "execution_count": 7,
   "metadata": {},
   "outputs": [],
   "source": [
    "from sklearn.model_selection import train_test_split"
   ]
  },
  {
   "cell_type": "code",
   "execution_count": 8,
   "metadata": {},
   "outputs": [],
   "source": [
    "df_full_train, df_test = train_test_split(df, test_size = 0.2, random_state = 42)\n",
    "df_train, df_val = train_test_split(df_full_train, test_size = 0.25, random_state = 42) #20% of 80%"
   ]
  },
  {
   "cell_type": "code",
   "execution_count": 9,
   "metadata": {},
   "outputs": [],
   "source": [
    "df_train = df_train.reset_index(drop = True)\n",
    "df_val = df_val.reset_index(drop = True)\n",
    "df_test = df_test.reset_index(drop = True)\n",
    "\n",
    "y_train = df_train.price.values\n",
    "y_val = df_val.price.values\n",
    "y_test = df_test.price.values\n",
    "\n",
    "del df_train['price']\n",
    "del df_val['price']\n",
    "del df_test['price']"
   ]
  },
  {
   "cell_type": "markdown",
   "metadata": {},
   "source": [
    "### Question 2\n",
    "\n",
    "- Create the correlation matrix for the numerical features of your train dataset.\n",
    "    - In a correlation matrix, you compute the correlation coefficient between every pair of features in the dataset.\n",
    "- What are the two features that have the biggest correlation in this dataset?"
   ]
  },
  {
   "cell_type": "code",
   "execution_count": 10,
   "metadata": {},
   "outputs": [],
   "source": [
    "df_corr = df.corr()"
   ]
  },
  {
   "cell_type": "code",
   "execution_count": 11,
   "metadata": {},
   "outputs": [
    {
     "data": {
      "text/html": [
       "<div>\n",
       "<style scoped>\n",
       "    .dataframe tbody tr th:only-of-type {\n",
       "        vertical-align: middle;\n",
       "    }\n",
       "\n",
       "    .dataframe tbody tr th {\n",
       "        vertical-align: top;\n",
       "    }\n",
       "\n",
       "    .dataframe thead th {\n",
       "        text-align: right;\n",
       "    }\n",
       "</style>\n",
       "<table border=\"1\" class=\"dataframe\">\n",
       "  <thead>\n",
       "    <tr style=\"text-align: right;\">\n",
       "      <th></th>\n",
       "      <th>latitude</th>\n",
       "      <th>longitude</th>\n",
       "      <th>price</th>\n",
       "      <th>minimum_nights</th>\n",
       "      <th>number_of_reviews</th>\n",
       "      <th>reviews_per_month</th>\n",
       "      <th>calculated_host_listings_count</th>\n",
       "      <th>availability_365</th>\n",
       "      <th>above_average</th>\n",
       "    </tr>\n",
       "  </thead>\n",
       "  <tbody>\n",
       "    <tr>\n",
       "      <td>latitude</td>\n",
       "      <td>1.000000</td>\n",
       "      <td>0.084788</td>\n",
       "      <td>0.033939</td>\n",
       "      <td>0.024869</td>\n",
       "      <td>-0.015389</td>\n",
       "      <td>-0.018758</td>\n",
       "      <td>0.019517</td>\n",
       "      <td>-0.010983</td>\n",
       "      <td>0.056385</td>\n",
       "    </tr>\n",
       "    <tr>\n",
       "      <td>longitude</td>\n",
       "      <td>0.084788</td>\n",
       "      <td>1.000000</td>\n",
       "      <td>-0.150019</td>\n",
       "      <td>-0.062747</td>\n",
       "      <td>0.059094</td>\n",
       "      <td>0.138516</td>\n",
       "      <td>-0.114713</td>\n",
       "      <td>0.082731</td>\n",
       "      <td>-0.267001</td>\n",
       "    </tr>\n",
       "    <tr>\n",
       "      <td>price</td>\n",
       "      <td>0.033939</td>\n",
       "      <td>-0.150019</td>\n",
       "      <td>1.000000</td>\n",
       "      <td>0.042799</td>\n",
       "      <td>-0.047954</td>\n",
       "      <td>-0.050564</td>\n",
       "      <td>0.057472</td>\n",
       "      <td>0.081829</td>\n",
       "      <td>0.418150</td>\n",
       "    </tr>\n",
       "    <tr>\n",
       "      <td>minimum_nights</td>\n",
       "      <td>0.024869</td>\n",
       "      <td>-0.062747</td>\n",
       "      <td>0.042799</td>\n",
       "      <td>1.000000</td>\n",
       "      <td>-0.080116</td>\n",
       "      <td>-0.124905</td>\n",
       "      <td>0.127960</td>\n",
       "      <td>0.144303</td>\n",
       "      <td>0.034715</td>\n",
       "    </tr>\n",
       "    <tr>\n",
       "      <td>number_of_reviews</td>\n",
       "      <td>-0.015389</td>\n",
       "      <td>0.059094</td>\n",
       "      <td>-0.047954</td>\n",
       "      <td>-0.080116</td>\n",
       "      <td>1.000000</td>\n",
       "      <td>0.589407</td>\n",
       "      <td>-0.072376</td>\n",
       "      <td>0.172028</td>\n",
       "      <td>-0.051785</td>\n",
       "    </tr>\n",
       "    <tr>\n",
       "      <td>reviews_per_month</td>\n",
       "      <td>-0.018758</td>\n",
       "      <td>0.138516</td>\n",
       "      <td>-0.050564</td>\n",
       "      <td>-0.124905</td>\n",
       "      <td>0.589407</td>\n",
       "      <td>1.000000</td>\n",
       "      <td>-0.047312</td>\n",
       "      <td>0.163732</td>\n",
       "      <td>-0.056040</td>\n",
       "    </tr>\n",
       "    <tr>\n",
       "      <td>calculated_host_listings_count</td>\n",
       "      <td>0.019517</td>\n",
       "      <td>-0.114713</td>\n",
       "      <td>0.057472</td>\n",
       "      <td>0.127960</td>\n",
       "      <td>-0.072376</td>\n",
       "      <td>-0.047312</td>\n",
       "      <td>1.000000</td>\n",
       "      <td>0.225701</td>\n",
       "      <td>0.170075</td>\n",
       "    </tr>\n",
       "    <tr>\n",
       "      <td>availability_365</td>\n",
       "      <td>-0.010983</td>\n",
       "      <td>0.082731</td>\n",
       "      <td>0.081829</td>\n",
       "      <td>0.144303</td>\n",
       "      <td>0.172028</td>\n",
       "      <td>0.163732</td>\n",
       "      <td>0.225701</td>\n",
       "      <td>1.000000</td>\n",
       "      <td>0.104255</td>\n",
       "    </tr>\n",
       "    <tr>\n",
       "      <td>above_average</td>\n",
       "      <td>0.056385</td>\n",
       "      <td>-0.267001</td>\n",
       "      <td>0.418150</td>\n",
       "      <td>0.034715</td>\n",
       "      <td>-0.051785</td>\n",
       "      <td>-0.056040</td>\n",
       "      <td>0.170075</td>\n",
       "      <td>0.104255</td>\n",
       "      <td>1.000000</td>\n",
       "    </tr>\n",
       "  </tbody>\n",
       "</table>\n",
       "</div>"
      ],
      "text/plain": [
       "                                latitude  longitude     price  minimum_nights  \\\n",
       "latitude                        1.000000   0.084788  0.033939        0.024869   \n",
       "longitude                       0.084788   1.000000 -0.150019       -0.062747   \n",
       "price                           0.033939  -0.150019  1.000000        0.042799   \n",
       "minimum_nights                  0.024869  -0.062747  0.042799        1.000000   \n",
       "number_of_reviews              -0.015389   0.059094 -0.047954       -0.080116   \n",
       "reviews_per_month              -0.018758   0.138516 -0.050564       -0.124905   \n",
       "calculated_host_listings_count  0.019517  -0.114713  0.057472        0.127960   \n",
       "availability_365               -0.010983   0.082731  0.081829        0.144303   \n",
       "above_average                   0.056385  -0.267001  0.418150        0.034715   \n",
       "\n",
       "                                number_of_reviews  reviews_per_month  \\\n",
       "latitude                                -0.015389          -0.018758   \n",
       "longitude                                0.059094           0.138516   \n",
       "price                                   -0.047954          -0.050564   \n",
       "minimum_nights                          -0.080116          -0.124905   \n",
       "number_of_reviews                        1.000000           0.589407   \n",
       "reviews_per_month                        0.589407           1.000000   \n",
       "calculated_host_listings_count          -0.072376          -0.047312   \n",
       "availability_365                         0.172028           0.163732   \n",
       "above_average                           -0.051785          -0.056040   \n",
       "\n",
       "                                calculated_host_listings_count  \\\n",
       "latitude                                              0.019517   \n",
       "longitude                                            -0.114713   \n",
       "price                                                 0.057472   \n",
       "minimum_nights                                        0.127960   \n",
       "number_of_reviews                                    -0.072376   \n",
       "reviews_per_month                                    -0.047312   \n",
       "calculated_host_listings_count                        1.000000   \n",
       "availability_365                                      0.225701   \n",
       "above_average                                         0.170075   \n",
       "\n",
       "                                availability_365  above_average  \n",
       "latitude                               -0.010983       0.056385  \n",
       "longitude                               0.082731      -0.267001  \n",
       "price                                   0.081829       0.418150  \n",
       "minimum_nights                          0.144303       0.034715  \n",
       "number_of_reviews                       0.172028      -0.051785  \n",
       "reviews_per_month                       0.163732      -0.056040  \n",
       "calculated_host_listings_count          0.225701       0.170075  \n",
       "availability_365                        1.000000       0.104255  \n",
       "above_average                           0.104255       1.000000  "
      ]
     },
     "execution_count": 11,
     "metadata": {},
     "output_type": "execute_result"
    }
   ],
   "source": [
    "df_corr"
   ]
  },
  {
   "cell_type": "code",
   "execution_count": 12,
   "metadata": {},
   "outputs": [
    {
     "data": {
      "text/plain": [
       "above_average                   above_average                     1.000000\n",
       "availability_365                availability_365                  1.000000\n",
       "longitude                       longitude                         1.000000\n",
       "price                           price                             1.000000\n",
       "minimum_nights                  minimum_nights                    1.000000\n",
       "reviews_per_month               reviews_per_month                 1.000000\n",
       "calculated_host_listings_count  calculated_host_listings_count    1.000000\n",
       "number_of_reviews               number_of_reviews                 1.000000\n",
       "latitude                        latitude                          1.000000\n",
       "number_of_reviews               reviews_per_month                 0.589407\n",
       "reviews_per_month               number_of_reviews                 0.589407\n",
       "price                           above_average                     0.418150\n",
       "dtype: float64"
      ]
     },
     "execution_count": 12,
     "metadata": {},
     "output_type": "execute_result"
    }
   ],
   "source": [
    "corr = df.corr().abs().unstack()\n",
    "corr.sort_values(ascending = False)[:12]"
   ]
  },
  {
   "cell_type": "markdown",
   "metadata": {},
   "source": [
    "### Make price binary\n",
    "\n",
    "- We need to turn the price variable from numeric into binary.\n",
    "- Let's create a variable ```above_average``` which is ```1``` if the price is above (or equal to) ```152```."
   ]
  },
  {
   "cell_type": "markdown",
   "metadata": {},
   "source": [
    "### Question 3\n",
    "\n",
    "- Calculate the mutual information score with the (binarized) price for the two categorial variables that we have. Use the training set only.\n",
    "- Which of these two variables has bigger score?\n",
    "- Round it to 2 decimal digit using ```round(score, 2)```"
   ]
  },
  {
   "cell_type": "code",
   "execution_count": 13,
   "metadata": {},
   "outputs": [],
   "source": [
    "from sklearn.metrics import mutual_info_score"
   ]
  },
  {
   "cell_type": "code",
   "execution_count": 14,
   "metadata": {},
   "outputs": [],
   "source": [
    "def mutual_info_churn_score(series):\n",
    "    return mutual_info_score(series,df_full_train.above_average)"
   ]
  },
  {
   "cell_type": "code",
   "execution_count": 15,
   "metadata": {},
   "outputs": [
    {
     "data": {
      "text/plain": [
       "room_type              0.142390\n",
       "neighbourhood_group    0.046223\n",
       "dtype: float64"
      ]
     },
     "execution_count": 15,
     "metadata": {},
     "output_type": "execute_result"
    }
   ],
   "source": [
    "mi = df_full_train[['neighbourhood_group', 'room_type']].apply(mutual_info_churn_score) #mutual information\n",
    "mi.sort_values(ascending = False)"
   ]
  },
  {
   "cell_type": "markdown",
   "metadata": {},
   "source": [
    "### Question 4\n",
    "\n",
    "- Now let's train a logistic regression\n",
    "- Remember that we have two categorical variables in the data. Include them using one-hot encoding.\n",
    "- Fit the model on the training dataset.\n",
    "    - To make sure the results are reproducible across different versions of Scikit-Learn, fit the model with these parameters.\n",
    "    - ```model = LogisticRegression(solver='lbfgs', C = 1.0, random_state=42)```\n",
    "- Calculate the accuracy on the validation dataset and round it to 2 decimal digits."
   ]
  },
  {
   "cell_type": "code",
   "execution_count": 16,
   "metadata": {},
   "outputs": [],
   "source": [
    "from sklearn.feature_extraction import DictVectorizer\n",
    "from sklearn.linear_model import LogisticRegression"
   ]
  },
  {
   "cell_type": "code",
   "execution_count": 17,
   "metadata": {},
   "outputs": [],
   "source": [
    "y_train_bin = df_train.above_average.values\n",
    "y_val_bin = df_val.above_average.values\n",
    "y_test_bin = df_test.above_average.values"
   ]
  },
  {
   "cell_type": "code",
   "execution_count": 18,
   "metadata": {},
   "outputs": [],
   "source": [
    "categorical = ['neighbourhood_group', 'room_type']\n",
    "numerical = ['latitude', 'longitude', 'minimum_nights', 'number_of_reviews', 'reviews_per_month', 'calculated_host_listings_count', 'availability_365']"
   ]
  },
  {
   "cell_type": "code",
   "execution_count": 19,
   "metadata": {},
   "outputs": [],
   "source": [
    "dv = DictVectorizer(sparse = False)\n",
    "\n",
    "train_dicts = df_train[categorical + numerical].to_dict(orient = 'records')\n",
    "X_train = dv.fit_transform(train_dicts)\n",
    "\n",
    "val_dicts = df_val[categorical + numerical].to_dict(orient = 'records')\n",
    "X_val = dv.transform(val_dicts)"
   ]
  },
  {
   "cell_type": "code",
   "execution_count": 20,
   "metadata": {},
   "outputs": [
    {
     "data": {
      "text/plain": [
       "LogisticRegression(max_iter=10000, random_state=42)"
      ]
     },
     "execution_count": 20,
     "metadata": {},
     "output_type": "execute_result"
    }
   ],
   "source": [
    "model = LogisticRegression(solver='lbfgs', C = 1.0, random_state=42, max_iter=10000)\n",
    "model.fit(X_train,y_train_bin)"
   ]
  },
  {
   "cell_type": "code",
   "execution_count": 21,
   "metadata": {},
   "outputs": [
    {
     "data": {
      "text/plain": [
       "array([ 3.000e-03,  4.000e-03, -5.201e+00, -2.827e+00, -1.100e-02,\n",
       "       -2.590e-01,  1.710e-01,  1.573e+00, -8.000e-03, -1.530e+00,\n",
       "       -3.000e-03, -4.300e-02,  1.908e+00, -8.710e-01, -1.089e+00])"
      ]
     },
     "execution_count": 21,
     "metadata": {},
     "output_type": "execute_result"
    }
   ],
   "source": [
    "model.coef_[0].round(3)"
   ]
  },
  {
   "cell_type": "code",
   "execution_count": 22,
   "metadata": {},
   "outputs": [
    {
     "data": {
      "text/plain": [
       "-0.0553244698209447"
      ]
     },
     "execution_count": 22,
     "metadata": {},
     "output_type": "execute_result"
    }
   ],
   "source": [
    "model.intercept_[0]"
   ]
  },
  {
   "cell_type": "code",
   "execution_count": 23,
   "metadata": {},
   "outputs": [],
   "source": [
    "y_pred = model.predict_proba(X_val)[:,1]"
   ]
  },
  {
   "cell_type": "code",
   "execution_count": 24,
   "metadata": {},
   "outputs": [],
   "source": [
    "price_decision = (y_pred >= 0.5).astype(int)"
   ]
  },
  {
   "cell_type": "code",
   "execution_count": 25,
   "metadata": {},
   "outputs": [
    {
     "data": {
      "text/plain": [
       "array([0, 0, 1, ..., 0, 0, 0])"
      ]
     },
     "execution_count": 25,
     "metadata": {},
     "output_type": "execute_result"
    }
   ],
   "source": [
    "y_val_bin"
   ]
  },
  {
   "cell_type": "code",
   "execution_count": 26,
   "metadata": {},
   "outputs": [
    {
     "data": {
      "text/plain": [
       "0.79"
      ]
     },
     "execution_count": 26,
     "metadata": {},
     "output_type": "execute_result"
    }
   ],
   "source": [
    "accuracy = (y_val_bin == price_decision).mean()\n",
    "round(accuracy,2)"
   ]
  },
  {
   "cell_type": "markdown",
   "metadata": {},
   "source": [
    "### Question 5\n",
    "\n",
    "- We have 9 featuresL 7 numerical features and 2 categorical.\n",
    "- Let's find the least useful one using the *feature elimination* technique.\n",
    "- Train a model with all these features (using the same parameters as in Q4).\n",
    "- Now exclude each feature from this set and train a model without it. Record the accuracy for each model.\n",
    "- For each feature, calculate the difference between the original accuracy and the accuracy without the feature.\n",
    "- Which of following feature has the smallest difference>\n",
    "    - ```neighbourhood_group```\n",
    "    - ```room_type```\n",
    "    - ```number_of_reviews```\n",
    "    - ```reviews_per_month```\n",
    "    \n",
    "note: the difference doesn't have to be positive."
   ]
  },
  {
   "cell_type": "code",
   "execution_count": 27,
   "metadata": {},
   "outputs": [],
   "source": [
    "def calculate_accuracy(features):\n",
    "    dv = DictVectorizer(sparse = False)\n",
    "\n",
    "    train_dicts = df_train[features].to_dict(orient = 'records')\n",
    "    X_train = dv.fit_transform(train_dicts)\n",
    "\n",
    "    val_dicts = df_val[features].to_dict(orient = 'records')\n",
    "    X_val = dv.transform(val_dicts)\n",
    "    \n",
    "    model = LogisticRegression(solver='lbfgs', C = 1.0, random_state=42, max_iter=10000)\n",
    "    model.fit(X_train,y_train_bin)\n",
    "    \n",
    "    y_pred = model.predict_proba(X_val)[:,1]\n",
    "    price_decision = (y_pred >= 0.5).astype(int)\n",
    "    accuracy = (y_val_bin == price_decision).mean()\n",
    "    \n",
    "    return accuracy"
   ]
  },
  {
   "cell_type": "code",
   "execution_count": 28,
   "metadata": {},
   "outputs": [],
   "source": [
    "all_features = categorical + numerical"
   ]
  },
  {
   "cell_type": "code",
   "execution_count": 29,
   "metadata": {},
   "outputs": [],
   "source": [
    "original_accuracy = calculate_accuracy(all_features)"
   ]
  },
  {
   "cell_type": "code",
   "execution_count": 30,
   "metadata": {},
   "outputs": [],
   "source": [
    "accuracy_df = pd.DataFrame()\n",
    "accuracy_df['index'] = ['accuracy', 'difference']\n",
    "\n",
    "for i in range(len(all_features)):\n",
    "    filtered_features = np.array(all_features[0:i] + all_features[i+1:])\n",
    "    accuracy = calculate_accuracy(filtered_features)\n",
    "    accuracy_df[all_features[i]] = [accuracy, np.abs(accuracy - original_accuracy)]\n",
    "accuracy_df = accuracy_df.set_index('index').T"
   ]
  },
  {
   "cell_type": "code",
   "execution_count": 31,
   "metadata": {},
   "outputs": [
    {
     "data": {
      "text/html": [
       "<div>\n",
       "<style scoped>\n",
       "    .dataframe tbody tr th:only-of-type {\n",
       "        vertical-align: middle;\n",
       "    }\n",
       "\n",
       "    .dataframe tbody tr th {\n",
       "        vertical-align: top;\n",
       "    }\n",
       "\n",
       "    .dataframe thead th {\n",
       "        text-align: right;\n",
       "    }\n",
       "</style>\n",
       "<table border=\"1\" class=\"dataframe\">\n",
       "  <thead>\n",
       "    <tr style=\"text-align: right;\">\n",
       "      <th>index</th>\n",
       "      <th>accuracy</th>\n",
       "      <th>difference</th>\n",
       "    </tr>\n",
       "  </thead>\n",
       "  <tbody>\n",
       "    <tr>\n",
       "      <td>reviews_per_month</td>\n",
       "      <td>0.790572</td>\n",
       "      <td>0.000205</td>\n",
       "    </tr>\n",
       "    <tr>\n",
       "      <td>minimum_nights</td>\n",
       "      <td>0.791185</td>\n",
       "      <td>0.000818</td>\n",
       "    </tr>\n",
       "    <tr>\n",
       "      <td>number_of_reviews</td>\n",
       "      <td>0.791390</td>\n",
       "      <td>0.001023</td>\n",
       "    </tr>\n",
       "    <tr>\n",
       "      <td>calculated_host_listings_count</td>\n",
       "      <td>0.789345</td>\n",
       "      <td>0.001023</td>\n",
       "    </tr>\n",
       "    <tr>\n",
       "      <td>longitude</td>\n",
       "      <td>0.786890</td>\n",
       "      <td>0.003477</td>\n",
       "    </tr>\n",
       "    <tr>\n",
       "      <td>latitude</td>\n",
       "      <td>0.786788</td>\n",
       "      <td>0.003579</td>\n",
       "    </tr>\n",
       "    <tr>\n",
       "      <td>availability_365</td>\n",
       "      <td>0.781266</td>\n",
       "      <td>0.009101</td>\n",
       "    </tr>\n",
       "    <tr>\n",
       "      <td>neighbourhood_group</td>\n",
       "      <td>0.750997</td>\n",
       "      <td>0.039370</td>\n",
       "    </tr>\n",
       "    <tr>\n",
       "      <td>room_type</td>\n",
       "      <td>0.728807</td>\n",
       "      <td>0.061560</td>\n",
       "    </tr>\n",
       "  </tbody>\n",
       "</table>\n",
       "</div>"
      ],
      "text/plain": [
       "index                           accuracy  difference\n",
       "reviews_per_month               0.790572    0.000205\n",
       "minimum_nights                  0.791185    0.000818\n",
       "number_of_reviews               0.791390    0.001023\n",
       "calculated_host_listings_count  0.789345    0.001023\n",
       "longitude                       0.786890    0.003477\n",
       "latitude                        0.786788    0.003579\n",
       "availability_365                0.781266    0.009101\n",
       "neighbourhood_group             0.750997    0.039370\n",
       "room_type                       0.728807    0.061560"
      ]
     },
     "execution_count": 31,
     "metadata": {},
     "output_type": "execute_result"
    }
   ],
   "source": [
    "accuracy_df.sort_values(by=['difference'])"
   ]
  },
  {
   "cell_type": "markdown",
   "metadata": {},
   "source": [
    "### Question 6 \n",
    "\n",
    "- For this question, we'll see how to use a linear regression model from Scikit-Learn.\n",
    "- We'll need to use the original column ```price```. Apply the logarithmic transformation to this column.\n",
    "- Fit the Ridge regression model on the training data.\n",
    "- This model has a parameter ```alpha```. Let's try the following values: ```[0, 0.01, 0.1, 1, 10]```\n",
    "- Which of these alphas leads to the best RMSE on the validation set? Round your RMSE scores to 3 decimals digits.\n",
    "\n",
    "If there are multiple options, select the smallest ```alpha```."
   ]
  },
  {
   "cell_type": "code",
   "execution_count": 32,
   "metadata": {},
   "outputs": [],
   "source": [
    "from sklearn.feature_extraction import DictVectorizer\n",
    "from sklearn.linear_model import Ridge\n",
    "from sklearn.metrics import mean_squared_error"
   ]
  },
  {
   "cell_type": "code",
   "execution_count": 33,
   "metadata": {},
   "outputs": [],
   "source": [
    "dv = DictVectorizer(sparse = False)\n",
    "\n",
    "train_dicts = df_train[categorical + numerical].to_dict(orient = 'records')\n",
    "X_train = dv.fit_transform(train_dicts)\n",
    "\n",
    "val_dicts = df_val[categorical + numerical].to_dict(orient = 'records')\n",
    "X_val = dv.transform(val_dicts)"
   ]
  },
  {
   "cell_type": "code",
   "execution_count": 34,
   "metadata": {},
   "outputs": [],
   "source": [
    "y_train_log = np.log1p(y_train)\n",
    "y_val_log = np.log1p(y_val)\n",
    "y_test_log = np.log1p(y_test)"
   ]
  },
  {
   "cell_type": "code",
   "execution_count": 35,
   "metadata": {},
   "outputs": [],
   "source": [
    "RMSE_df = pd.DataFrame()\n",
    "RMSE_df['index'] = ['RMSE']\n",
    "\n",
    "alpha = [0, 0.01, 0.1, 1, 10]\n",
    "\n",
    "for i in alpha:\n",
    "    model = Ridge(alpha = i)\n",
    "    model.fit(X_train,y_train_log)\n",
    "    y_pred = model.predict(X_val)\n",
    "    rmse = mean_squared_error(y_val_log,y_pred, squared = False)\n",
    "    \n",
    "    RMSE_df[str(i)] = round(rmse,3)\n",
    "    \n",
    "RMSE_df = RMSE_df.set_index('index').T"
   ]
  },
  {
   "cell_type": "code",
   "execution_count": 36,
   "metadata": {},
   "outputs": [
    {
     "data": {
      "text/html": [
       "<div>\n",
       "<style scoped>\n",
       "    .dataframe tbody tr th:only-of-type {\n",
       "        vertical-align: middle;\n",
       "    }\n",
       "\n",
       "    .dataframe tbody tr th {\n",
       "        vertical-align: top;\n",
       "    }\n",
       "\n",
       "    .dataframe thead th {\n",
       "        text-align: right;\n",
       "    }\n",
       "</style>\n",
       "<table border=\"1\" class=\"dataframe\">\n",
       "  <thead>\n",
       "    <tr style=\"text-align: right;\">\n",
       "      <th>index</th>\n",
       "      <th>RMSE</th>\n",
       "    </tr>\n",
       "  </thead>\n",
       "  <tbody>\n",
       "    <tr>\n",
       "      <td>0</td>\n",
       "      <td>0.497</td>\n",
       "    </tr>\n",
       "    <tr>\n",
       "      <td>0.01</td>\n",
       "      <td>0.497</td>\n",
       "    </tr>\n",
       "    <tr>\n",
       "      <td>0.1</td>\n",
       "      <td>0.497</td>\n",
       "    </tr>\n",
       "    <tr>\n",
       "      <td>1</td>\n",
       "      <td>0.497</td>\n",
       "    </tr>\n",
       "    <tr>\n",
       "      <td>10</td>\n",
       "      <td>0.498</td>\n",
       "    </tr>\n",
       "  </tbody>\n",
       "</table>\n",
       "</div>"
      ],
      "text/plain": [
       "index   RMSE\n",
       "0      0.497\n",
       "0.01   0.497\n",
       "0.1    0.497\n",
       "1      0.497\n",
       "10     0.498"
      ]
     },
     "execution_count": 36,
     "metadata": {},
     "output_type": "execute_result"
    }
   ],
   "source": [
    "RMSE_df.sort_values(by = ['RMSE'])"
   ]
  },
  {
   "cell_type": "code",
   "execution_count": null,
   "metadata": {},
   "outputs": [],
   "source": []
  }
 ],
 "metadata": {
  "kernelspec": {
   "display_name": "Python 3",
   "language": "python",
   "name": "python3"
  },
  "language_info": {
   "codemirror_mode": {
    "name": "ipython",
    "version": 3
   },
   "file_extension": ".py",
   "mimetype": "text/x-python",
   "name": "python",
   "nbconvert_exporter": "python",
   "pygments_lexer": "ipython3",
   "version": "3.7.4"
  }
 },
 "nbformat": 4,
 "nbformat_minor": 4
}
